{
 "cells": [
  {
   "cell_type": "code",
   "execution_count": 3,
   "metadata": {},
   "outputs": [
    {
     "name": "stderr",
     "output_type": "stream",
     "text": [
      "  File \"utilities.py\", line 61\n",
      "    return np.array(x_train), np.array(x_test), np.array(y_train), np.array(y_test)\n",
      "         ^\n",
      "SyntaxError: invalid syntax\n"
     ]
    }
   ],
   "source": [
    "!python utilities.py "
   ]
  },
  {
   "cell_type": "code",
   "execution_count": 42,
   "metadata": {},
   "outputs": [
    {
     "name": "stdout",
     "output_type": "stream",
     "text": [
      "model given Neural network\n",
      "started reading folder Neutral\n",
      "ended reading folder Neutral\n",
      "started reading folder Angry\n",
      "ended reading folder Angry\n",
      "started reading folder Happy\n",
      "ended reading folder Happy\n",
      "started reading folder Sad\n",
      "ended reading folder Sad\n",
      "------------- Training Started -------------\n",
      "Iteration 1, loss = 1.44104854\n",
      "Iteration 2, loss = 0.59901861\n",
      "Iteration 3, loss = 0.38442153\n",
      "Iteration 4, loss = 0.23578282\n",
      "Iteration 5, loss = 0.14073713\n",
      "Iteration 6, loss = 0.08968480\n",
      "Iteration 7, loss = 0.05898695\n",
      "Iteration 8, loss = 0.04246653\n",
      "Iteration 9, loss = 0.03178312\n",
      "Iteration 10, loss = 0.02532246\n",
      "Iteration 11, loss = 0.02075248\n",
      "Iteration 12, loss = 0.01740299\n",
      "Iteration 13, loss = 0.01481706\n",
      "Iteration 14, loss = 0.01290033\n",
      "Iteration 15, loss = 0.01141067\n",
      "Iteration 16, loss = 0.01016555\n",
      "Iteration 17, loss = 0.00913396\n",
      "Iteration 18, loss = 0.00832580\n",
      "Iteration 19, loss = 0.00763889\n",
      "Iteration 20, loss = 0.00705091\n",
      "Iteration 21, loss = 0.00654450\n",
      "Iteration 22, loss = 0.00606296\n",
      "Iteration 23, loss = 0.00567024\n",
      "Iteration 24, loss = 0.00531693\n",
      "Iteration 25, loss = 0.00501478\n",
      "Iteration 26, loss = 0.00472190\n",
      "Iteration 27, loss = 0.00447551\n",
      "Iteration 28, loss = 0.00424997\n",
      "Iteration 29, loss = 0.00404255\n",
      "Iteration 30, loss = 0.00385881\n",
      "Iteration 31, loss = 0.00368861\n",
      "Iteration 32, loss = 0.00354252\n",
      "Iteration 33, loss = 0.00339994\n",
      "Iteration 34, loss = 0.00327312\n",
      "Iteration 35, loss = 0.00313742\n",
      "Iteration 36, loss = 0.00302544\n",
      "Iteration 37, loss = 0.00291361\n",
      "Iteration 38, loss = 0.00282058\n",
      "Iteration 39, loss = 0.00273149\n",
      "Iteration 40, loss = 0.00265059\n",
      "Training loss did not improve more than tol=0.000100 for two consecutive epochs. Stopping.\n",
      "------------- Training Ended -------------\n",
      "0.8235294117647058\n",
      "[[11  0  3  4]\n",
      " [ 0 23  1  1]\n",
      " [ 0  1  6  0]\n",
      " [ 2  0  0 16]]\n"
     ]
    },
    {
     "name": "stderr",
     "output_type": "stream",
     "text": [
      "E:\\anaconda\\lib\\site-packages\\sklearn\\ensemble\\weight_boosting.py:29: DeprecationWarning: numpy.core.umath_tests is an internal NumPy module and should not be imported. It will be removed in a future NumPy release.\n",
      "  from numpy.core.umath_tests import inner1d\n",
      "E:\\anaconda\\lib\\site-packages\\scipy\\io\\wavfile.py:273: WavFileWarning: Chunk (non-data) not understood, skipping it.\n",
      "  WavFileWarning)\n"
     ]
    }
   ],
   "source": [
    "!python train_model.py 3"
   ]
  },
  {
   "cell_type": "markdown",
   "metadata": {},
   "source": []
  },
  {
   "cell_type": "code",
   "execution_count": 7,
   "metadata": {},
   "outputs": [],
   "source": [
    "import speechpy"
   ]
  },
  {
   "cell_type": "code",
   "execution_count": 6,
   "metadata": {},
   "outputs": [
    {
     "data": {
      "text/plain": [
       "\"C:\\\\Users\\\\Karan's\""
      ]
     },
     "execution_count": 6,
     "metadata": {},
     "output_type": "execute_result"
    }
   ],
   "source": [
    "speechpy.feature.f"
   ]
  },
  {
   "cell_type": "code",
   "execution_count": null,
   "metadata": {},
   "outputs": [],
   "source": []
  }
 ],
 "metadata": {
  "kernelspec": {
   "display_name": "Python 3",
   "language": "python",
   "name": "python3"
  },
  "language_info": {
   "codemirror_mode": {
    "name": "ipython",
    "version": 3
   },
   "file_extension": ".py",
   "mimetype": "text/x-python",
   "name": "python",
   "nbconvert_exporter": "python",
   "pygments_lexer": "ipython3",
   "version": "3.6.3"
  }
 },
 "nbformat": 4,
 "nbformat_minor": 2
}
